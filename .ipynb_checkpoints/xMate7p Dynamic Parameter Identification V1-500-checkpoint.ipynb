{
 "cells": [
  {
   "cell_type": "markdown",
   "metadata": {},
   "source": [
    "Experimental Identification of Physically Feasible Dynamic Parameters of the 7-link xMate7p Robot using LMI–SDP Techniques\n",
    "=======================================================================================================================\n",
    "\n",
    "[![DOI](https://zenodo.org/badge/920/cdsousa/wam7_dyn_ident.png)](http://dx.doi.org/10.5281/zenodo.10537)\n",
    "\n",
    "*Experimental code and data associated with the paper:*\n",
    "\n",
    "**Cristóvão D. Sousa and Rui Cortesão, \"Physical feasibility of robot base inertial parameter identification: A linear matrix inequality approach,\" The International Journal of Robotics Research, vol. 33, no. 6, pp. 931–944, May. 2014, doi: [10.1177/0278364913514870](http://dx.doi.org/10.1177/0278364913514870)**\n",
    "\n",
    "[Postprint availabe from ResearchGate](http://www.researchgate.net/publication/262483999_Physical_feasibility_of_robot_base_inertial_parameter_identification_A_linear_matrix_inequality_approach)\n",
    "\n",
    "------------------------\n",
    "\n",
    "\n",
    "Authors\n",
    "-------\n",
    "\n",
    "- Cristóvão D. Sousa, [crisjss@gmail.com](mailto:crisjss@gmail.com)\n",
    "- Rui Cortesão, [cortesao@isr.uc.pt](mailto:cortesao@isr.uc.pt)\n",
    "\n",
    "------------------------\n",
    "\n",
    "\n",
    "Research Notebook\n",
    "-----------------\n",
    "\n",
    "The research is done in [Python](http://www.python.org/) within an [IPython notebook](http://ipython.org/notebook.html) (the *xMate7p Dynamic Parameter Identification V1.ipynb* file).\n",
    "Data is in *data* folder. Additional Python support code is in *support_funcs* folder.\n",
    "\n",
    "\n",
    "\n",
    "\n",
    "How to run the code\n",
    "-------------------\n",
    "\n",
    "- clone the git repository (it contains code and data)\n",
    "- open the *xMate7p Dynamic Parameter Identification V1.ipynb* notebook with [IPython](http://ipython.org/)\n",
    "- edit and run the code\n",
    "\n",
    "Dependencies:\n",
    "\n",
    "- [Python](http://www.python.org/)\n",
    "- [IPython](http://ipython.org/)\n",
    "- [SymPy](http://sympy.org/)\n",
    "- [Numpy](http://www.numpy.org/)\n",
    "- [SciPy](http://www.scipy.org/)\n",
    "- [SymPyBotics](https://github.com/cdsousa/SymPyBotics)\n",
    "- [PyLMI-SDP](https://github.com/cdsousa/PyLMI-SDP)\n",
    "\n",
    "------------------------\n",
    "\n",
    "\n",
    "Questions & Feedback\n",
    "--------------------\n",
    "\n",
    "Feel free to contact the authors at [crisjss@gmail.com](mailto:crisjss@gmail.com)\n",
    "\n",
    "------------------------\n",
    "\n",
    "\n",
    "License\n",
    "-------\n",
    "\n",
    "Copyright (c) 2013, Cristóvão Duarte Sousa, Rui Cortesão\n",
    "\n",
    "All rights reserved.\n",
    "\n",
    "[![Creative Commons License](http://i.creativecommons.org/l/by-nc-sa/4.0/88x31.png)](http://creativecommons.org/licenses/by-nc-sa/4.0/)\n",
    "This work is licensed under a [Creative Commons Attribution-NonCommercial-ShareAlike 4.0 International License](http://creativecommons.org/licenses/by-nc-sa/4.0/)\n"
   ]
  },
  {
   "cell_type": "markdown",
   "metadata": {},
   "source": [
    "---------------\n",
    "\n",
    "---------------\n",
    "\n",
    "---------------\n",
    "\n",
    "---------------"
   ]
  },
  {
   "cell_type": "markdown",
   "metadata": {},
   "source": [
    "# Initializations"
   ]
  },
  {
   "cell_type": "code",
   "execution_count": 1,
   "metadata": {},
   "outputs": [],
   "source": [
    "datafolder = 'data/'\n",
    "tmpfolder = 'tmp/'"
   ]
  },
  {
   "cell_type": "code",
   "execution_count": 2,
   "metadata": {},
   "outputs": [
    {
     "name": "stdout",
     "output_type": "stream",
     "text": [
      "Populating the interactive namespace from numpy and matplotlib\n"
     ]
    }
   ],
   "source": [
    "from sympy import init_printing\n",
    "init_printing()\n",
    "\n",
    "%pylab inline"
   ]
  },
  {
   "cell_type": "markdown",
   "metadata": {},
   "source": [
    "1 - Robot Model\n",
    "==============="
   ]
  },
  {
   "cell_type": "code",
   "execution_count": 3,
   "metadata": {},
   "outputs": [],
   "source": [
    "import sympybotics"
   ]
  },
  {
   "cell_type": "markdown",
   "metadata": {},
   "source": [
    "#### Robot Definition"
   ]
  },
  {
   "cell_type": "code",
   "execution_count": 4,
   "metadata": {},
   "outputs": [],
   "source": [
    "rbtdef = sympybotics.RobotDef(\"xMate7p\",\n",
    "            [(0,       0,      0.404, \"q\"),\n",
    "             (\"-pi/2\", 0,          0, \"q\"),\n",
    "             (\"pi/2\",  0,     0.4375, \"q\"),\n",
    "             (\"-pi/2\", 0,          0, \"q\"),\n",
    "             (\"pi/2\",  0,     0.4125, \"q\"),\n",
    "             (\"-pi/2\", 0,          0, \"q\"),\n",
    "             (\"pi/2\",  0,     0.2755, \"q\")],\n",
    "            dh_convention=\"modified\")   # # (alpha, a, d, theta)\n",
    "\n",
    "# rbtdef.frictionmodel = {}    # 摩擦力模型\n",
    "\n",
    "# rbtdef.frictionmodel = {'Coulomb', 'viscous'}\n",
    "# rbtdef.driveinertiamodel = 'simplified'\n",
    "\n",
    "rbtdef.frictionmodel = {'Coulomb', 'viscous'}\n",
    "rbtdef.driveinertiamodel = 'simplified'"
   ]
  },
  {
   "cell_type": "markdown",
   "metadata": {},
   "source": [
    "#### Model Generation"
   ]
  },
  {
   "cell_type": "code",
   "execution_count": 5,
   "metadata": {},
   "outputs": [
    {
     "name": "stdout",
     "output_type": "stream",
     "text": [
      "CPU times: user 7.63 s, sys: 91.9 ms, total: 7.72 s\n",
      "Wall time: 7.66 s\n",
      "CPU times: user 6.07 s, sys: 109 ms, total: 6.18 s\n",
      "Wall time: 4.39 s\n"
     ]
    }
   ],
   "source": [
    "%time rbt = sympybotics.RobotDynCode(rbtdef)\n",
    "%time rbt.calc_base_parms()"
   ]
  },
  {
   "cell_type": "code",
   "execution_count": 6,
   "metadata": {},
   "outputs": [],
   "source": [
    "import pickle\n",
    "with open(tmpfolder + 'robotmodels/xMate7p.pkl', 'wb') as file:\n",
    "    pickle.dump( rbt, file )"
   ]
  },
  {
   "cell_type": "markdown",
   "metadata": {},
   "source": [
    "## Base Dynamic Parameters"
   ]
  },
  {
   "cell_type": "code",
   "execution_count": 7,
   "metadata": {},
   "outputs": [],
   "source": [
    "import pickle\n",
    "with open(tmpfolder +  'robotmodels/xMate7p.pkl', 'rb' ) as file:\n",
    "          rbt = pickle.load( file )"
   ]
  },
  {
   "cell_type": "code",
   "execution_count": 8,
   "metadata": {},
   "outputs": [
    {
     "data": {
      "text/plain": [
       "(91, 62)"
      ]
     },
     "execution_count": 8,
     "metadata": {},
     "output_type": "execute_result"
    }
   ],
   "source": [
    "rbt.dyn.n_dynparms, rbt.dyn.n_base"
   ]
  },
  {
   "cell_type": "code",
   "execution_count": 9,
   "metadata": {},
   "outputs": [
    {
     "data": {
      "text/plain": [
       "Matrix([\n",
       "[                                                                                                   Ia_1 + L_1zz + L_2yy],\n",
       "[                                                                                                                   fv_1],\n",
       "[                                                                                                                   fc_1],\n",
       "[L_2xx - L_2yy + L_3yy + 0.875*l_3z + 0.19140625*m_3 + 0.19140625*m_4 + 0.19140625*m_5 + 0.19140625*m_6 + 0.19140625*m_7],\n",
       "[                                                                                                                  L_2xy],\n",
       "[                                                                                                                  L_2xz],\n",
       "[                                                                                                                  L_2yz],\n",
       "[ Ia_2 + L_2zz + L_3yy + 0.875*l_3z + 0.19140625*m_3 + 0.19140625*m_4 + 0.19140625*m_5 + 0.19140625*m_6 + 0.19140625*m_7],\n",
       "[                                                                                                                   l_2x],\n",
       "[                                           l_2y - l_3z - 0.4375*m_3 - 0.4375*m_4 - 0.4375*m_5 - 0.4375*m_6 - 0.4375*m_7],\n",
       "[                                                                                                                   fv_2],\n",
       "[                                                                                                                   fc_2],\n",
       "[                                                                                                  L_3xx - L_3yy + L_4yy],\n",
       "[                                                                                                                  L_3xy],\n",
       "[                                                                                                                  L_3xz],\n",
       "[                                                                                                                  L_3yz],\n",
       "[                                                                                                          L_3zz + L_4yy],\n",
       "[                                                                                                                   l_3x],\n",
       "[                                                                                                            l_3y + l_4z],\n",
       "[                                                                                                                   Ia_3],\n",
       "[                                                                                                                   fv_3],\n",
       "[                                                                                                                   fc_3],\n",
       "[                                  L_4xx - L_4yy + L_5yy + 0.825*l_5z + 0.17015625*m_5 + 0.17015625*m_6 + 0.17015625*m_7],\n",
       "[                                                                                                                  L_4xy],\n",
       "[                                                                                                                  L_4xz],\n",
       "[                                                                                                                  L_4yz],\n",
       "[                                          L_4zz + L_5yy + 0.825*l_5z + 0.17015625*m_5 + 0.17015625*m_6 + 0.17015625*m_7],\n",
       "[                                                                                                                   l_4x],\n",
       "[                                                                     l_4y - l_5z - 0.4125*m_5 - 0.4125*m_6 - 0.4125*m_7],\n",
       "[                                                                                                                   Ia_4],\n",
       "[                                                                                                                   fv_4],\n",
       "[                                                                                                                   fc_4],\n",
       "[                                                                                                  L_5xx - L_5yy + L_6yy],\n",
       "[                                                                                                                  L_5xy],\n",
       "[                                                                                                                  L_5xz],\n",
       "[                                                                                                                  L_5yz],\n",
       "[                                                                                                          L_5zz + L_6yy],\n",
       "[                                                                                                                   l_5x],\n",
       "[                                                                                                            l_5y + l_6z],\n",
       "[                                                                                                                   Ia_5],\n",
       "[                                                                                                                   fv_5],\n",
       "[                                                                                                                   fc_5],\n",
       "[                                                                    L_6xx - L_6yy + L_7yy + 0.551*l_7z + 0.07590025*m_7],\n",
       "[                                                                                                                  L_6xy],\n",
       "[                                                                                                                  L_6xz],\n",
       "[                                                                                                                  L_6yz],\n",
       "[                                                                            L_6zz + L_7yy + 0.551*l_7z + 0.07590025*m_7],\n",
       "[                                                                                                                   l_6x],\n",
       "[                                                                                               l_6y - l_7z - 0.2755*m_7],\n",
       "[                                                                                                                   Ia_6],\n",
       "[                                                                                                                   fv_6],\n",
       "[                                                                                                                   fc_6],\n",
       "[                                                                                                          L_7xx - L_7yy],\n",
       "[                                                                                                                  L_7xy],\n",
       "[                                                                                                                  L_7xz],\n",
       "[                                                                                                                  L_7yz],\n",
       "[                                                                                                                  L_7zz],\n",
       "[                                                                                                                   l_7x],\n",
       "[                                                                                                                   l_7y],\n",
       "[                                                                                                                   Ia_7],\n",
       "[                                                                                                                   fv_7],\n",
       "[                                                                                                                   fc_7]])"
      ]
     },
     "execution_count": 9,
     "metadata": {},
     "output_type": "execute_result"
    }
   ],
   "source": [
    "rbt.dyn.baseparms.n()"
   ]
  },
  {
   "cell_type": "markdown",
   "metadata": {},
   "source": [
    "2 - Excited Trajectory Optimization\n",
    "=================================="
   ]
  },
  {
   "cell_type": "code",
   "execution_count": 10,
   "metadata": {},
   "outputs": [],
   "source": [
    "import pickle\n",
    "with open(tmpfolder +  'robotmodels/xMate7p.pkl', 'rb' ) as file:\n",
    "          rbt = pickle.load( file )"
   ]
  },
  {
   "cell_type": "code",
   "execution_count": 11,
   "metadata": {},
   "outputs": [
    {
     "name": "stdout",
     "output_type": "stream",
     "text": [
      "dof_num: 7\n",
      "joint constraint number: 42\n",
      "cartesian constraint number: 0\n",
      "constraint number: 42\n",
      "frames_constrained: []\n"
     ]
    }
   ],
   "source": [
    "from trajectory_optimization import TrajOptimizer\n",
    "from trajectory_optimization import TrajPlotter\n",
    "from numpy import deg2rad\n",
    "\n",
    "trajectory_folder =  'data/trajectories/'\n",
    "\n",
    "# 周期是20\n",
    "base_freq = 0.05\n",
    "fourier_order = 5\n",
    "\n",
    "joint_constraints = []\n",
    "\n",
    "# 关节约束[关节序号，位置约束，速度约束，加速度约束]\n",
    "joint_constraints = [(1, deg2rad(-165), deg2rad(165), -2.175, 2.175, -15, 15),\n",
    "                     (2, deg2rad(-115), deg2rad(115), -2.175, 2.175, -7.5, 7.5),\n",
    "                     (3, deg2rad(-165), deg2rad(165), -2.175, 2.175, -10, 10),\n",
    "                     (4, deg2rad(-115), deg2rad(115), -2.175, 2.175, -10, 10),\n",
    "                     (5, deg2rad(-165), deg2rad(165), -2.610, 2.610, -15, 15),\n",
    "                     (6, deg2rad(-115), deg2rad(115), -2.610, 2.610, -15, 15),\n",
    "                     (7, deg2rad(-355), deg2rad(355), -2.610, 2.610, -20, 20)]\n",
    "\n",
    "\n",
    "# # 关节约束[关节序号，位置约束，速度约束，加速度约束]\n",
    "# joint_constraints = [(1, deg2rad(-165), deg2rad(165), -2.175, 2.175),\n",
    "#                      (2, deg2rad(-115), deg2rad(115), -2.175, 2.175),\n",
    "#                      (3, deg2rad(-165), deg2rad(165), -2.175, 2.175),\n",
    "#                      (4, deg2rad(-115), deg2rad(115), -2.175, 2.175),\n",
    "#                      (5, deg2rad(-165), deg2rad(165), -2.610, 2.610),\n",
    "#                      (6, deg2rad(-115), deg2rad(115), -2.610, 2.610),\n",
    "#                      (7, deg2rad(-355), deg2rad(355), -2.610, 2.610)]\n",
    "\n",
    "traj_optimizer = TrajOptimizer(rbt, fourier_order, base_freq,\n",
    "                               joint_constraints=joint_constraints)\n",
    "                                                                                                                                                                                                                \n",
    "traj_optimizer.x_result = np.load(trajectory_folder+\"opt_x.npy\")\n",
    "# traj_optimizer.optimize()"
   ]
  },
  {
   "cell_type": "markdown",
   "metadata": {},
   "source": [
    "## plot excited trajectory"
   ]
  },
  {
   "cell_type": "code",
   "execution_count": 12,
   "metadata": {},
   "outputs": [
    {
     "data": {
      "image/png": "[encoded data removed]",
      "text/plain": [
       "<Figure size 432x288 with 3 Axes>"
      ]
     },
     "metadata": {
      "needs_background": "light"
     },
     "output_type": "display_data"
    }
   ],
   "source": [
    "# %matplotlib qt \n",
    "\n",
    "traj_plotter = TrajPlotter(traj_optimizer.fourier_traj,traj_optimizer.frame_traj,\n",
    "                           traj_optimizer.const_frame_ind)\n",
    "traj_plotter.plot_desired_traj(traj_optimizer.x_result, trajectory_folder)"
   ]
  },
  {
   "cell_type": "markdown",
   "metadata": {},
   "source": [
    "## save trajectory"
   ]
  },
  {
   "cell_type": "code",
   "execution_count": 13,
   "metadata": {},
   "outputs": [
    {
     "data": {
      "text/plain": [
       "array([-4.82916904e-06,  5.23596413e-01,  1.37229307e-06,  1.04719678e+00,\n",
       "        7.87726298e-08,  1.57079639e+00,  8.11783698e-08])"
      ]
     },
     "execution_count": 13,
     "metadata": {},
     "output_type": "execute_result"
    }
   ],
   "source": [
    "from utils import save_data, load_data\n",
    "\n",
    "trajectory_name = 'xMate7p'\n",
    "\n",
    "dof_order_bf_x_norm = (traj_optimizer.fourier_traj.dof, fourier_order,\n",
    "                       base_freq, traj_optimizer.x_result, [])\n",
    "save_data(trajectory_folder, trajectory_name, dof_order_bf_x_norm)\n",
    "\n",
    "freq = 50\n",
    "tf = 65 # including 5 seconds' prestable time\n",
    "traj_optimizer.make_traj_csv(trajectory_folder, trajectory_name, freq, tf)\n",
    "\n",
    "\n",
    "# save as .npy format in order to skip the optimizer\n",
    "np.save(trajectory_folder+\"opt_x.npy\", traj_optimizer.x_result)\n",
    "\n",
    "# save as .txt format for xMate7 pro robot\n",
    "opt_x = [0]*traj_optimizer.fourier_traj.dof*(2*fourier_order+1)\n",
    "for i in range(traj_optimizer.fourier_traj.dof):\n",
    "    opt_x[i*11] = traj_optimizer.x_result.tolist()[i*11+1]\n",
    "    opt_x[i*11+1] = traj_optimizer.x_result.tolist()[i*11+6]\n",
    "    opt_x[i*11+2] = traj_optimizer.x_result.tolist()[i*11+2]\n",
    "    opt_x[i*11+3] = traj_optimizer.x_result.tolist()[i*11+7]\n",
    "    opt_x[i*11+4] = traj_optimizer.x_result.tolist()[i*11+3]\n",
    "    opt_x[i*11+5] = traj_optimizer.x_result.tolist()[i*11+8]\n",
    "    opt_x[i*11+6] = traj_optimizer.x_result.tolist()[i*11+4]\n",
    "    opt_x[i*11+7] = traj_optimizer.x_result.tolist()[i*11+9]\n",
    "    opt_x[i*11+8] = traj_optimizer.x_result.tolist()[i*11+5]\n",
    "    opt_x[i*11+9] = traj_optimizer.x_result.tolist()[i*11+10]\n",
    "    opt_x[i*11+10] = traj_optimizer.x_result.tolist()[i*11+0]\n",
    "\n",
    "# list_txt(path=trajectory_folder+'opt_x.txt', list=opt_x)\n",
    "f1 = open(trajectory_folder+'opt_x.txt','w')\n",
    "for j in opt_x:\n",
    "    f1.write(str(j)+'\\n')\n",
    "f1.close()\n",
    "q, dq, ddq = traj_optimizer.fourier_traj.fourier_base_x2q(traj_optimizer.x_result)\n",
    "q[0]"
   ]
  },
  {
   "cell_type": "markdown",
   "metadata": {},
   "source": [
    "## display trajectory param"
   ]
  },
  {
   "cell_type": "code",
   "execution_count": 14,
   "metadata": {},
   "outputs": [
    {
     "data": {
      "text/html": [
       "<table>\n",
       "<tbody>\n",
       "<tr><td>joint</td><td>qo     </td><td>a1     </td><td>a2     </td><td>a3     </td><td>a4     </td><td>a5     </td><td>b1     </td><td>b2     </td><td>b3     </td><td>b4     </td><td>b5     </td></tr>\n",
       "<tr><td>q1   </td><td>-0.3539</td><td>-0.279 </td><td>0.0057 </td><td>-0.211 </td><td>-0.5009</td><td>0.9852 </td><td>-0.1038</td><td>-0.3361</td><td>0.241  </td><td>0.8687 </td><td>-0.6844</td></tr>\n",
       "<tr><td>q2   </td><td>0.5707 </td><td>-0.0525</td><td>-0.1808</td><td>0.7247 </td><td>0.1709 </td><td>-0.6634</td><td>-0.0046</td><td>-0.5089</td><td>1.0307 </td><td>0.1451 </td><td>-0.53  </td></tr>\n",
       "<tr><td>q3   </td><td>0.4304 </td><td>0.6088 </td><td>0.6038 </td><td>-0.5058</td><td>0.4032 </td><td>-1.1101</td><td>0.1377 </td><td>0.1008 </td><td>-0.0157</td><td>-0.3998</td><td>0.2614 </td></tr>\n",
       "<tr><td>q4   </td><td>0.3987 </td><td>0.0479 </td><td>-0.1241</td><td>-0.4313</td><td>0.4425 </td><td>0.065  </td><td>-0.3813</td><td>0.1297 </td><td>0.8641 </td><td>-0.8496</td><td>0.1856 </td></tr>\n",
       "<tr><td>q5   </td><td>-0.3251</td><td>0.5573 </td><td>0.5621 </td><td>-0.6522</td><td>0.6892 </td><td>-1.1565</td><td>-0.2269</td><td>0.1727 </td><td>0.3031 </td><td>-0.2388</td><td>-0.0145</td></tr>\n",
       "<tr><td>q6   </td><td>0.4889 </td><td>0.2006 </td><td>0.3843 </td><td>0.0493 </td><td>0.1479 </td><td>-0.7822</td><td>-0.242 </td><td>0.0325 </td><td>0.0177 </td><td>-1.3887</td><td>1.1358 </td></tr>\n",
       "<tr><td>q7   </td><td>2.8145 </td><td>0.1887 </td><td>-0.6329</td><td>0.7967 </td><td>-0.0096</td><td>-0.3429</td><td>0.6124 </td><td>0.5486 </td><td>0.7155 </td><td>-0.9636</td><td>-0.0003</td></tr>\n",
       "</tbody>\n",
       "</table>"
      ],
      "text/plain": [
       "<IPython.core.display.HTML object>"
      ]
     },
     "metadata": {},
     "output_type": "display_data"
    }
   ],
   "source": [
    "from IPython.display import HTML, display\n",
    "import tabulate\n",
    "\n",
    "table = []\n",
    "table.append([\"joint\", 'qo'] +\n",
    "             [\"a\"+str(i+1) for i in range(fourier_order)] +\n",
    "             [\"b\"+str(i+1) for i in range(fourier_order)])\n",
    "for i in range(traj_optimizer.fourier_traj.dof):\n",
    "    line = []\n",
    "    line.append(rbt.rbtdef.q[i])\n",
    "    line += np.round(traj_optimizer.x_result[i*(1 + fourier_order*2): (i+1)*(1 + fourier_order*2)], 4).tolist()\n",
    "    table.append(line)\n",
    "\n",
    "display(HTML(tabulate.tabulate(table, tablefmt='html')))"
   ]
  },
  {
   "cell_type": "markdown",
   "metadata": {},
   "source": [
    "3 - Regression Data Processing\n",
    "=============================="
   ]
  },
  {
   "cell_type": "code",
   "execution_count": 15,
   "metadata": {},
   "outputs": [],
   "source": [
    "import os\n",
    "import pickle\n",
    "import math\n",
    "import sympy\n",
    "import numpy\n",
    "import sympybotics"
   ]
  },
  {
   "cell_type": "code",
   "execution_count": 16,
   "metadata": {},
   "outputs": [],
   "source": [
    "with open(tmpfolder +  'robotmodels/xMate7p.pkl', 'rb' ) as file:\n",
    "          rbt = pickle.load( file )"
   ]
  },
  {
   "cell_type": "markdown",
   "metadata": {},
   "source": [
    "### Data Load"
   ]
  },
  {
   "cell_type": "code",
   "execution_count": 17,
   "metadata": {},
   "outputs": [],
   "source": [
    "parms_traj = 'traj1'"
   ]
  },
  {
   "cell_type": "code",
   "execution_count": 18,
   "metadata": {},
   "outputs": [
    {
     "name": "stdout",
     "output_type": "stream",
     "text": [
      "(<type 'numpy.ndarray'>, (60001, 28))\n"
     ]
    },
    {
     "data": {
      "text/plain": [
       "(60001,)"
      ]
     },
     "execution_count": 18,
     "metadata": {},
     "output_type": "execute_result"
    }
   ],
   "source": [
    "from support_funcs.regr_data_proc import load_trajectory_data\n",
    "\n",
    "training_results_data_file = datafolder +'recdata/' + 'xMate7p_'+parms_traj+'_results.csv'\n",
    "\n",
    "trajectory_sampling_rate = 50    # 实际机器人数据采样频率，用于计算时间\n",
    "t_raw, q_raw, dq_raw, ddq_raw, tau_raw = load_trajectory_data(training_results_data_file,\n",
    "                                                                   trajectory_sampling_rate)\n",
    "t_raw.shape"
   ]
  },
  {
   "cell_type": "markdown",
   "metadata": {},
   "source": [
    "### Some Plots"
   ]
  },
  {
   "cell_type": "code",
   "execution_count": 19,
   "metadata": {},
   "outputs": [
    {
     "data": {
      "image/png": "[encoded data removed]",
      "text/plain": [
       "<Figure size 432x288 with 1 Axes>"
      ]
     },
     "metadata": {
      "needs_background": "light"
     },
     "output_type": "display_data"
    }
   ],
   "source": [
    "from matplotlib import pyplot as plt\n",
    "plt.close()\n",
    "\n",
    "# for d in range(rbt.dof):\n",
    "#     co_num = str(d + 1)\n",
    "#     plt.plot(t_raw, q_raw[:, d], label=(r\"$q_\" + co_num +\"$\"), linestyle= (0, ()))\n",
    "    \n",
    "for i in range(q_raw.shape[1]):\n",
    "    plt.plot(t_raw,q_raw[:,i])\n",
    "\n",
    "plt.show()"
   ]
  },
  {
   "cell_type": "code",
   "execution_count": 20,
   "metadata": {},
   "outputs": [
    {
     "data": {
      "image/png": "[encoded data removed]",
      "text/plain": [
       "<Figure size 432x288 with 1 Axes>"
      ]
     },
     "metadata": {
      "needs_background": "light"
     },
     "output_type": "display_data"
    }
   ],
   "source": [
    "from matplotlib import pyplot as plt\n",
    "plt.close()\n",
    "\n",
    "joint = 1\n",
    "# plt.plot(t_ref+0.20,q_ref[:,joint-1])\n",
    "plt.plot(t_raw,q_raw[:,joint-1])\n",
    "\n",
    "plt.show()"
   ]
  },
  {
   "cell_type": "code",
   "execution_count": 21,
   "metadata": {},
   "outputs": [],
   "source": [
    "del t_raw, q_raw, dq_raw,tau_raw"
   ]
  },
  {
   "cell_type": "markdown",
   "metadata": {},
   "source": [
    "### Parameter Load"
   ]
  },
  {
   "cell_type": "code",
   "execution_count": 22,
   "metadata": {},
   "outputs": [
    {
     "name": "stdout",
     "output_type": "stream",
     "text": [
      "dof: 7\n",
      "Fourier order: 5\n",
      "Base frequency: 0.05\n"
     ]
    }
   ],
   "source": [
    "from utils import save_data, load_data\n",
    "\n",
    "training_trajectory_name = 'xMate7p'\n",
    "\n",
    "\n",
    "trajectory_folder = datafolder +'trajectories/'\n",
    "dof, fourier_order, base_freq, traj_optimizer_result, reg_norm_mat = load_data(trajectory_folder,\n",
    "                                                                               training_trajectory_name)\n",
    "print(\"dof: {}\".format(dof))\n",
    "print(\"Fourier order: {}\".format(fourier_order))\n",
    "print(\"Base frequency: {}\".format(base_freq))"
   ]
  },
  {
   "cell_type": "markdown",
   "metadata": {},
   "source": [
    "### Filter Cut-off Frequency Definition"
   ]
  },
  {
   "cell_type": "code",
   "execution_count": 23,
   "metadata": {},
   "outputs": [
    {
     "name": "stdout",
     "output_type": "stream",
     "text": [
      "Cut frequency: 2.5\n"
     ]
    }
   ],
   "source": [
    "# times of the highest frequency in the Fourier series\n",
    "fc_mult = 10.0\n",
    "\n",
    "fc = base_freq * fourier_order * fc_mult\n",
    "print(\"Cut frequency: {}\".format(fc))"
   ]
  },
  {
   "cell_type": "code",
   "execution_count": 24,
   "metadata": {},
   "outputs": [],
   "source": [
    "fc_q = fc\n",
    "fc_dq = fc\n",
    "fc_ddq = fc\n",
    "\n",
    "fc_tau = float('Inf')  # fc\n",
    "\n",
    "# si = 200\n",
    "# sf = -200\n",
    "si = int(3/0.001)\n",
    "sf = -int(1/0.001)"
   ]
  },
  {
   "cell_type": "markdown",
   "metadata": {},
   "source": [
    "### Data Filtering, Differentiation and Regression Data Generation"
   ]
  },
  {
   "cell_type": "code",
   "execution_count": 25,
   "metadata": {},
   "outputs": [],
   "source": [
    "rec_h = 0.001"
   ]
  },
  {
   "cell_type": "code",
   "execution_count": 26,
   "metadata": {},
   "outputs": [],
   "source": [
    "from support_funcs.regr_data_proc import load_trajectory_data, plot_trajectory_data, \\\n",
    "                                            diff_and_filt_data, gen_regr_matrices\n",
    "\n",
    "\n",
    "def process_regression_data(traj_name):\n",
    "#     t_raw, q_raw, tau_raw, t_ref, q_ref = read_data(dof=rbt.dof, h=rec_h,\n",
    "#                                                     rbtlogfile=datafolder + 'recdata/rbtlog_%s.dat'%traj_name,\n",
    "#                                                     trajreffile=datafolder + 'trajectories/%s.dat'%traj_name)\n",
    "    \n",
    "    training_results_data_file = datafolder +'recdata/' + 'xMate7p_%s_results.csv'%traj_name\n",
    "    trajectory_sampling_rate = 50    # 实体机器人运行,记录数据采样频率\n",
    "    t_raw, q_raw, dq_raw, ddq_raw, tau_raw = load_trajectory_data(training_results_data_file,\n",
    "                                                                   trajectory_sampling_rate)\n",
    "    \n",
    "    # 原始采集数据滤波\n",
    "    q, dq, ddq, tau = diff_and_filt_data(dof=rbt.dof, h=rec_h,  q_raw=q_raw, dq_raw=dq_raw, ddq_raw=ddq_raw,\n",
    "                                         tau_raw=tau_raw,fc_q=fc_q, fc_dq=fc_dq, fc_ddq=fc_ddq, fc_tau=fc_tau)\n",
    "    \n",
    "    # 掐头去尾留中间，可能是因为开始和结束时抖动？\n",
    "    t_raw = t_raw[si:sf]; q_raw = q_raw[si:sf]; tau_raw = tau_raw[si:sf]\n",
    "    q = q[si:sf]; dq = dq[si:sf]; ddq = ddq[si:sf]; tau = tau[si:sf]\n",
    "    \n",
    "    \n",
    "    t_raw = t_raw - t_raw[0]\n",
    "    \n",
    "    t = numpy.array(range(q.shape[0])) * rec_h\n",
    "    \n",
    "    W, omega, Q1, R1, rho1 = gen_regr_matrices(rbt, q, dq, ddq, tau)\n",
    "    \n",
    "    # t_raw, q_raw, tau_raw是原始采集数据，t, q, dq, ddq, tau是滤波后的数据\n",
    "    return t_raw, q_raw, tau_raw, t, q, dq, ddq, tau, W, omega, Q1, R1, rho1"
   ]
  },
  {
   "cell_type": "code",
   "execution_count": null,
   "metadata": {
    "scrolled": true
   },
   "outputs": [
    {
     "name": "stdout",
     "output_type": "stream",
     "text": [
      ">>>>>>>> traj1 proc <<<<<<<<<\n",
      "(<type 'numpy.ndarray'>, (60001, 28))\n",
      "CPU times: user 14.7 s, sys: 690 ms, total: 15.4 s\n",
      "Wall time: 9.87 s\n",
      " (cond=55.433955)\n",
      "traj1 save\n",
      "CPU times: user 8.8 s, sys: 677 ms, total: 9.47 s\n",
      "Wall time: 14.7 s\n",
      ">>>>>>>> traj2 proc <<<<<<<<<\n",
      "(<type 'numpy.ndarray'>, (60001, 28))\n"
     ]
    }
   ],
   "source": [
    "from support_funcs.utils import _fprint\n",
    "from support_funcs.regr_data_proc import plot_trajectory_data\n",
    "\n",
    "for traj in ['traj1', 'traj2', 'traj3', 'traj4']:      #, 'traj4'\n",
    "    _fprint('>>>>>>>> %s proc <<<<<<<<<'%traj)\n",
    "    %time t_raw, q_raw, tau_raw, t, q, dq, ddq, tau, W, omega, Q1, R1, rho1 = process_regression_data(traj)\n",
    "    \n",
    "    _fprint(' (cond=%f)'%numpy.linalg.cond(W))\n",
    "    \n",
    "    _fprint('%s save'%traj)\n",
    "    \n",
    "    %time \\\n",
    "    numpy.savez_compressed(tmpfolder + 'procdata/' + traj + '_raw', t=t_raw, q=q_raw, tau=tau_raw);\\\n",
    "    numpy.savez_compressed(tmpfolder + 'procdata/' + traj + '_proc', t=t, q=q, dq=dq, ddq=ddq, tau=tau); \\\n",
    "    numpy.savez_compressed(tmpfolder + 'procdata/' + traj + '_regr', W=W, omega=omega, Q1=Q1, R1=R1, rho1=rho1)\n",
    "    \n",
    "#     plot_trajectory_data(t, q_raw, q, dq, ddq,\n",
    "#                      tau_raw, tau)\n",
    "    \n",
    "    del t_raw, q_raw, tau_raw, t, q, dq, ddq, tau, W, omega, Q1, R1, rho1"
   ]
  },
  {
   "cell_type": "markdown",
   "metadata": {},
   "source": [
    "### Plot"
   ]
  },
  {
   "cell_type": "code",
   "execution_count": null,
   "metadata": {},
   "outputs": [],
   "source": [
    "raw = numpy.load(tmpfolder + 'procdata/traj1_raw.npz')\n",
    "tau_raw = raw['tau']\n",
    "q_raw = raw['q']\n",
    "del raw\n",
    "proc = numpy.load(tmpfolder + 'procdata/traj1_proc.npz')\n",
    "t = proc['t']\n",
    "tau = proc['tau']\n",
    "q = proc['q']\n",
    "dq = proc['dq']\n",
    "del proc"
   ]
  },
  {
   "cell_type": "code",
   "execution_count": null,
   "metadata": {},
   "outputs": [],
   "source": [
    "from matplotlib import pyplot as plt\n",
    "plt.close()\n",
    "\n",
    "plt.figure(dpi=150)\n",
    "joint = 1\n",
    "firsts = 20000\n",
    "plt.plot(t[:firsts],q_raw[:,joint-1][:firsts],label='joint'+str(joint)+'_q_raw')\n",
    "plt.plot(t[:firsts],q[:,joint-1][:firsts],label='joint'+str(joint)+'_q_proc')\n",
    "#plt.plot(t[:firsts],dq[:,joint-1][:firsts])\n",
    "plt.plot(t[:firsts],tau_raw[:,joint-1][:firsts],label='joint'+str(joint)+'_tau_raw')\n",
    "plt.rc('legend', fontsize=6)\n",
    "plt.legend(loc=3)\n",
    "\n",
    "plt.show()"
   ]
  },
  {
   "cell_type": "code",
   "execution_count": null,
   "metadata": {},
   "outputs": [],
   "source": [
    "del t, q, dq, tau, q_raw, tau_raw"
   ]
  },
  {
   "cell_type": "markdown",
   "metadata": {},
   "source": [
    "4 - Dynamic Parameter Estimation\n",
    "================================"
   ]
  },
  {
   "cell_type": "code",
   "execution_count": null,
   "metadata": {},
   "outputs": [],
   "source": [
    "import os\n",
    "import pickle\n",
    "import sympy\n",
    "import numpy\n",
    "import time\n",
    "\n",
    "import sympybotics\n",
    "import lmi_sdp\n",
    "\n",
    "from lmi_sdp import init_lmi_latex_printing\n",
    "init_lmi_latex_printing()"
   ]
  },
  {
   "cell_type": "code",
   "execution_count": null,
   "metadata": {},
   "outputs": [],
   "source": [
    "with open(tmpfolder +  'robotmodels/xMate7p.pkl', 'rb' ) as file:\n",
    "          rbt = pickle.load( file )"
   ]
  },
  {
   "cell_type": "code",
   "execution_count": null,
   "metadata": {},
   "outputs": [],
   "source": [
    "epsilon_safemargin = 1e-30\n",
    "epsilon_sdptol = 1e-7"
   ]
  },
  {
   "cell_type": "markdown",
   "metadata": {},
   "source": [
    "## LMI Matrix Definitions"
   ]
  },
  {
   "cell_type": "code",
   "execution_count": null,
   "metadata": {},
   "outputs": [],
   "source": [
    "dof = rbt.dof\n",
    "\n",
    "delta = rbt.dyn.dynparms    # 要辨识的全参数集矩阵表达式\n",
    "n_delta = rbt.dyn.n_dynparms    # 要辨识的全参数集参数数量\n",
    "\n",
    "beta = rbt.dyn.baseparms.n()    # 最小参数集矩阵表达式\n",
    "n_beta = rbt.dyn.n_base         # 最小参数集参数数量\n",
    "beta_symbs = sympy.Matrix([sympy.Symbol('beta'+str(i+1),real=True) for i in range(n_beta)])\n",
    "\n",
    "delta_d = (rbt.dyn.Pd.T*delta)  # beta中非独立部分\n",
    "n_delta_d = len(delta_d)\n",
    "\n",
    "K = rbt.dyn.Pb.T + rbt.dyn.Kd * rbt.dyn.Pd.T\n",
    "\n",
    "Pb = rbt.dyn.Pb\n",
    "\n",
    "varchange_dict = dict(zip(Pb.T*delta ,  beta_symbs - ( beta - Pb.T*delta )))"
   ]
  },
  {
   "cell_type": "code",
   "execution_count": null,
   "metadata": {},
   "outputs": [],
   "source": [
    "from support_funcs.utils import skew, mrepl\n",
    "from sympy import BlockMatrix, Matrix, eye, Identity\n",
    "I = Identity\n",
    "S = skew"
   ]
  },
  {
   "cell_type": "code",
   "execution_count": null,
   "metadata": {},
   "outputs": [],
   "source": [
    "D_inertia_blocks = []\n",
    "# `L` is the link inertia tensor computed about the link frame;\n",
    "# `l` is the link first moment of inertia;\n",
    "# `m` is the link mass.\n",
    "for i in range(dof):\n",
    "    L = rbt.rbtdef.L[i]\n",
    "    l = rbt.rbtdef.l[i]\n",
    "    m = rbt.rbtdef.m[i]\n",
    "    Di = BlockMatrix([[L,    S(l).T],\n",
    "                      [S(l), I(3)*m]])\n",
    "    D_inertia_blocks.append(Di.as_explicit())"
   ]
  },
  {
   "cell_type": "code",
   "execution_count": null,
   "metadata": {},
   "outputs": [],
   "source": [
    "D_inertia_blocks[0]"
   ]
  },
  {
   "cell_type": "code",
   "execution_count": null,
   "metadata": {},
   "outputs": [],
   "source": [
    "F_blocks = []\n",
    "for i in range(dof):\n",
    "    if rbt.rbtdef.driveinertiamodel == 'simplified':\n",
    "        F_blocks.append( Matrix([rbt.rbtdef.Ia[i]]) )\n",
    "    if 'viscous' in rbt.rbtdef.frictionmodel:\n",
    "        F_blocks.append( Matrix([rbt.rbtdef.fv[i]]) )\n",
    "    if 'Coulomb' in rbt.rbtdef.frictionmodel:\n",
    "        F_blocks.append( Matrix([rbt.rbtdef.fc[i]]) )"
   ]
  },
  {
   "cell_type": "code",
   "execution_count": null,
   "metadata": {},
   "outputs": [],
   "source": [
    "E_blocks = D_inertia_blocks + F_blocks"
   ]
  },
  {
   "cell_type": "code",
   "execution_count": null,
   "metadata": {},
   "outputs": [],
   "source": [
    "E_blocks"
   ]
  },
  {
   "cell_type": "markdown",
   "metadata": {},
   "source": [
    "## Change of Variable Space"
   ]
  },
  {
   "cell_type": "code",
   "execution_count": null,
   "metadata": {},
   "outputs": [],
   "source": [
    "varchange_dict = dict(zip(Pb.T*delta ,  beta_symbs - ( beta - Pb.T*delta )))"
   ]
  },
  {
   "cell_type": "code",
   "execution_count": null,
   "metadata": {
    "scrolled": true
   },
   "outputs": [],
   "source": [
    "EB_blocks = [mrepl(Ei, varchange_dict) for Ei in E_blocks]\n",
    "EB_blocks"
   ]
  },
  {
   "cell_type": "markdown",
   "metadata": {},
   "source": [
    "## LMI Definitions"
   ]
  },
  {
   "cell_type": "code",
   "execution_count": null,
   "metadata": {},
   "outputs": [],
   "source": [
    "from lmi_sdp import LMI_PD, LMI"
   ]
  },
  {
   "cell_type": "code",
   "execution_count": null,
   "metadata": {},
   "outputs": [],
   "source": [
    "EB_LMIs = list(map(LMI_PD, EB_blocks))"
   ]
  },
  {
   "cell_type": "code",
   "execution_count": null,
   "metadata": {},
   "outputs": [],
   "source": [
    "EB_LMIs[0]"
   ]
  },
  {
   "cell_type": "code",
   "execution_count": null,
   "metadata": {},
   "outputs": [],
   "source": [
    "EB_LMIs_marg = list(map(lambda lm: LMI(lm, epsilon_safemargin*eye(lm.shape[0])) , EB_blocks))"
   ]
  },
  {
   "cell_type": "code",
   "execution_count": null,
   "metadata": {},
   "outputs": [],
   "source": [
    "EB_LMIs_marg[0]"
   ]
  },
  {
   "cell_type": "code",
   "execution_count": null,
   "metadata": {},
   "outputs": [],
   "source": [
    "EB_LMIs_marg[0].canonical()"
   ]
  },
  {
   "cell_type": "markdown",
   "metadata": {},
   "source": [
    "## SDP Solver Interfaces"
   ]
  },
  {
   "cell_type": "markdown",
   "metadata": {},
   "source": [
    "### [SDPA](http://sdpa.sourceforge.net/)"
   ]
  },
  {
   "cell_type": "code",
   "execution_count": null,
   "metadata": {},
   "outputs": [],
   "source": [
    "def sdpa(objf, lmis, variables):\n",
    "    sdpadat = lmi_sdp.to_sdpa_sparse(objf, lmis, variables)\n",
    "    with open(tmpfolder + 'sdpa_dat/sdp.dat-s', 'w') as f:\n",
    "        f.write(sdpadat)\n",
    "    \n",
    "    stdout = !sdpa -ds \"$tmpfolder\"sdpa_dat/sdp.dat-s -o \"$tmpfolder\"sdpa_dat/sdpa.out -p \"$tmpfolder\"sdpa_dat/param.sdpa -pt 2\n",
    "    print('\\n'.join(stdout))\n",
    "\n",
    "    outfile = !cat \"$tmpfolder\"sdpa_dat/sdpa.out\n",
    "    sol = [float(v) for v in outfile[outfile.index('xVec = ') + 1].replace('{', '').replace('}', '').split(',')]\n",
    "    return numpy.matrix(sol).T"
   ]
  },
  {
   "cell_type": "markdown",
   "metadata": {},
   "source": [
    "### [CSDP](https://projects.coin-or.org/Csdp/)"
   ]
  },
  {
   "cell_type": "code",
   "execution_count": null,
   "metadata": {},
   "outputs": [],
   "source": [
    "def csdp(objf, lmis, variables):\n",
    "    sdpadat = lmi_sdp.to_sdpa_sparse(objf, lmis, variables)\n",
    "    with open(tmpfolder + 'sdpa_dat/sdp.dat-s', 'w') as f:\n",
    "        f.write(sdpadat)\n",
    "    \n",
    "    stdout = !cd \"$tmpfolder\"sdpa_dat; csdp sdp.dat-s csdp.out\n",
    "    print('\\n'.join(stdout))\n",
    "\n",
    "    outfile = !cat \"$tmpfolder\"sdpa_dat/csdp.out\n",
    "    sol = [float(v) for v in outfile[0].split()]\n",
    "    return numpy.matrix(sol).T"
   ]
  },
  {
   "cell_type": "markdown",
   "metadata": {},
   "source": [
    "### [DSDP5](doi.org/10.1145/1356052.1356057)"
   ]
  },
  {
   "cell_type": "code",
   "execution_count": null,
   "metadata": {},
   "outputs": [],
   "source": [
    "def dsdp5(objf, lmis, variables):\n",
    "    sdpadat = lmi_sdp.to_sdpa_sparse(objf, lmis, variables)\n",
    "    with open(tmpfolder + 'sdpa_dat/sdp.dat-s', 'w') as f:\n",
    "        f.write(sdpadat)\n",
    "    \n",
    "    stdout = !cd \"$tmpfolder\"sdpa_dat; dsdp5 sdp.dat-s -save dsdp5.out -gaptol $epsilon_sdptol\n",
    "    print('\\n'.join(stdout))\n",
    "\n",
    "    outfile = !cat \"$tmpfolder\"sdpa_dat/dsdp5.out\n",
    "    sol = [float(v) for v in outfile[0].split()]\n",
    "    return numpy.matrix(sol).T"
   ]
  },
  {
   "cell_type": "markdown",
   "metadata": {},
   "source": [
    "### [DSDP5 through CVXOPT](http://abel.ee.ucla.edu/cvxopt/userguide/coneprog.html#cvxopt.solvers.sdp)"
   ]
  },
  {
   "cell_type": "code",
   "execution_count": null,
   "metadata": {},
   "outputs": [],
   "source": [
    "def cvxopt_dsdp5(objf, lmis, variables):\n",
    "    import cvxopt.solvers\n",
    "    c, Gs, hs = lmi_sdp.to_cvxopt(objf, lmis, variables)\n",
    "    cvxopt.solvers.options['DSDP_GapTolerance'] = epsilon_sdptol\n",
    "    tic = time.time()\n",
    "    sdpout = cvxopt.solvers.sdp(c, Gs=Gs, hs=hs, solver='dsdp')\n",
    "    toc = time.time()\n",
    "    print(sdpout['status'], ('ATT!: \\'optimal\\' does not necessarlly means feasible'))\n",
    "    print('Elapsed time: %.2f s'%(toc-tic))\n",
    "    return numpy.matrix(sdpout['x'])"
   ]
  },
  {
   "cell_type": "markdown",
   "metadata": {},
   "source": [
    "### [CVXOPT CONELP](http://abel.ee.ucla.edu/cvxopt/userguide/coneprog.html#cvxopt.solvers.sdp)"
   ]
  },
  {
   "cell_type": "code",
   "execution_count": null,
   "metadata": {},
   "outputs": [],
   "source": [
    "def cvxopt_conelp(objf, lmis, variables):\n",
    "    import cvxopt.solvers\n",
    "    c, Gs, hs = lmi_sdp.to_cvxopt(objf, lmis, variables)\n",
    "    cvxopt.solvers.options['feastol'] = epsilon_sdptol\n",
    "    tic = time.time()\n",
    "    sdpout = cvxopt.solvers.sdp(c, Gs=Gs, hs=hs)\n",
    "    toc = time.time()\n",
    "    print(sdpout['status'])\n",
    "    print('Elapsed time: %.2f s'%(toc-tic))\n",
    "    return numpy.matrix(sdpout['x'])"
   ]
  },
  {
   "cell_type": "markdown",
   "metadata": {},
   "source": [
    "### [Raw SDPA file](http://plato.asu.edu/ftp/sdpa_format.txt)\n",
    "\n",
    "Can be solved online with a *Semidefinite Programming* solver at [NEOS Solvers](http://www.neos-server.org/neos/solvers/index.html)"
   ]
  },
  {
   "cell_type": "code",
   "execution_count": null,
   "metadata": {},
   "outputs": [],
   "source": [
    "def sdpa_file(objf, lmis, variables):\n",
    "    sdpadat = lmi_sdp.to_sdpa_sparse(objf, lmis, variables)\n",
    "    with open(tmpfolder + 'sdpa_dat/sdpa_input.dat-s', 'w') as f:\n",
    "        f.write(sdpadat)\n",
    "        \n",
    "    print(\"SDPA file saved at: %ssdpa_dat/sdpa_input.dat-s\"%tmpfolder)"
   ]
  },
  {
   "cell_type": "markdown",
   "metadata": {},
   "source": [
    "--------------"
   ]
  },
  {
   "cell_type": "markdown",
   "metadata": {},
   "source": [
    "Setting the default SDP solver:"
   ]
  },
  {
   "cell_type": "code",
   "execution_count": null,
   "metadata": {},
   "outputs": [],
   "source": [
    "solve_sdp = dsdp5"
   ]
  },
  {
   "cell_type": "markdown",
   "metadata": {},
   "source": [
    "## Method 1:Ordinary Least Squares (OLS)"
   ]
  },
  {
   "cell_type": "code",
   "execution_count": null,
   "metadata": {},
   "outputs": [],
   "source": [
    "indentification_traj = 'traj1'"
   ]
  },
  {
   "cell_type": "code",
   "execution_count": null,
   "metadata": {},
   "outputs": [],
   "source": [
    "regr_mats = numpy.load(tmpfolder + 'procdata/' + indentification_traj + '_regr.npz')\n",
    "W = numpy.matrix(regr_mats['W'])\n",
    "omega = numpy.matrix(regr_mats['omega'])\n",
    "R1 = numpy.matrix(regr_mats['R1'])\n",
    "rho1 = numpy.matrix(regr_mats['rho1'])"
   ]
  },
  {
   "cell_type": "code",
   "execution_count": null,
   "metadata": {},
   "outputs": [],
   "source": [
    "omega.shape[0] / rbt.dof"
   ]
  },
  {
   "cell_type": "code",
   "execution_count": null,
   "metadata": {},
   "outputs": [],
   "source": [
    "W.shape"
   ]
  },
  {
   "cell_type": "code",
   "execution_count": null,
   "metadata": {},
   "outputs": [],
   "source": [
    "numpy.linalg.cond(W)"
   ]
  },
  {
   "cell_type": "code",
   "execution_count": null,
   "metadata": {},
   "outputs": [],
   "source": [
    "%time beta_ols = (R1.T * R1).I * R1.T * rho1"
   ]
  },
  {
   "cell_type": "code",
   "execution_count": null,
   "metadata": {},
   "outputs": [],
   "source": [
    "numpy.savetxt(tmpfolder + 'solutions/V1-1000_' + indentification_traj + '_beta_ols.dat', beta_ols)"
   ]
  },
  {
   "cell_type": "code",
   "execution_count": null,
   "metadata": {},
   "outputs": [],
   "source": [
    "rho2_norm_sqr = numpy.linalg.norm(omega - W * beta_ols)**2"
   ]
  },
  {
   "cell_type": "markdown",
   "metadata": {},
   "source": [
    "### plot measured and predicted torque"
   ]
  },
  {
   "cell_type": "code",
   "execution_count": null,
   "metadata": {},
   "outputs": [],
   "source": [
    "from support_funcs.regr_data_proc import  plot_meas_pred_tau\n",
    "\n",
    "import matplotlib.pyplot as plt\n",
    "plt.rcParams['figure.figsize'] = [12,8]\n",
    "\n",
    "proc = numpy.load(tmpfolder + 'procdata/' + indentification_traj + '_proc.npz')\n",
    "t = proc['t']\n",
    "tau = proc['tau']\n",
    "\n",
    "tau_p = np.zeros(tau.shape)\n",
    "tau_ps = W.dot(beta_ols)\n",
    "for i in range(dof):\n",
    "    tau_p[:, i] = tau_ps[i::dof].flatten()\n",
    "\n",
    "base_freq = 0.05    \n",
    "trajectory_sampling_rate = 1000\n",
    "plot_data_num = int(1 / base_freq * trajectory_sampling_rate)\n",
    "plot_meas_pred_tau(t[:plot_data_num], tau[:plot_data_num, :],\n",
    "                   tau_p[:plot_data_num, :])"
   ]
  },
  {
   "cell_type": "markdown",
   "metadata": {},
   "source": [
    "## Method 2:Weighted Least Square (WLS)"
   ]
  },
  {
   "cell_type": "code",
   "execution_count": null,
   "metadata": {},
   "outputs": [],
   "source": [
    "proc = numpy.load(tmpfolder + 'procdata/' + indentification_traj + '_proc.npz')\n",
    "t = proc['t']\n",
    "tau = proc['tau']\n",
    "\n",
    "weight = np.max(tau, axis=0) - np.min(tau, axis=0)\n",
    "print(\"weight: \")\n",
    "print(weight)\n",
    "\n",
    "\n",
    "# repeat the weight to generate a large vecoter for all the data\n",
    "weights = 1.0/np.tile(weight, W.shape[0]/weight.shape[0])"
   ]
  },
  {
   "cell_type": "code",
   "execution_count": null,
   "metadata": {},
   "outputs": [],
   "source": [
    "weights[0:6]"
   ]
  },
  {
   "cell_type": "code",
   "execution_count": null,
   "metadata": {},
   "outputs": [],
   "source": [
    "W_wls = np.multiply(W, np.asmatrix(weights).transpose())\n",
    "omega_wls = np.multiply(omega.T, weights).T\n",
    "Q1_wls,R1_wls = numpy.linalg.qr(W_wls)\n",
    "rho1_wls = Q1_wls.T*omega_wls"
   ]
  },
  {
   "cell_type": "code",
   "execution_count": null,
   "metadata": {},
   "outputs": [],
   "source": [
    "%time beta_wls = (R1_wls.T * R1_wls).I * R1_wls.T * rho1_wls"
   ]
  },
  {
   "cell_type": "code",
   "execution_count": null,
   "metadata": {},
   "outputs": [],
   "source": [
    "numpy.savetxt(tmpfolder + 'solutions/V1-1000_' + indentification_traj + '_beta_wls.dat', beta_wls)"
   ]
  },
  {
   "cell_type": "code",
   "execution_count": null,
   "metadata": {},
   "outputs": [],
   "source": [
    "rho2_norm_sqr_wls = numpy.linalg.norm(omega_wls - W_wls * beta_wls)**2"
   ]
  },
  {
   "cell_type": "markdown",
   "metadata": {},
   "source": [
    "### plot measured and predicted torque"
   ]
  },
  {
   "cell_type": "code",
   "execution_count": null,
   "metadata": {},
   "outputs": [],
   "source": [
    "from support_funcs.regr_data_proc import  plot_meas_pred_tau\n",
    "\n",
    "import matplotlib.pyplot as plt\n",
    "plt.rcParams['figure.figsize'] = [12,8]\n",
    "\n",
    "proc = numpy.load(tmpfolder + 'procdata/' + indentification_traj + '_proc.npz')\n",
    "t = proc['t']\n",
    "tau = proc['tau']\n",
    "\n",
    "tau_p = np.zeros(tau.shape)\n",
    "tau_ps = W.dot(beta_wls)\n",
    "for i in range(dof):\n",
    "    tau_p[:, i] = tau_ps[i::dof].flatten()\n",
    "\n",
    "base_freq = 0.05    \n",
    "trajectory_sampling_rate = 1000\n",
    "plot_data_num = int(1 / base_freq * trajectory_sampling_rate)\n",
    "plot_meas_pred_tau(t[:plot_data_num], tau[:plot_data_num, :],\n",
    "                   tau_p[:plot_data_num, :])"
   ]
  },
  {
   "cell_type": "markdown",
   "metadata": {},
   "source": [
    "## Method 3:Feasible Base Parameter Estimation with Ordinary Least Squares (FBPE-OLS) "
   ]
  },
  {
   "cell_type": "code",
   "execution_count": null,
   "metadata": {},
   "outputs": [],
   "source": [
    "u = sympy.Symbol('u')\n",
    "U_beta = BlockMatrix([[Matrix([u]),            (beta_ols - beta_symbs).T],\n",
    "                 [beta_ols - beta_symbs,                 I(n_beta)]])\n",
    "U_beta = U_beta.as_explicit()"
   ]
  },
  {
   "cell_type": "code",
   "execution_count": null,
   "metadata": {},
   "outputs": [],
   "source": [
    "lmis_ols_fbpe = [LMI(U_beta)] + EB_LMIs_marg"
   ]
  },
  {
   "cell_type": "code",
   "execution_count": null,
   "metadata": {},
   "outputs": [],
   "source": [
    "lmis_ols_fbpe[1]"
   ]
  },
  {
   "cell_type": "code",
   "execution_count": null,
   "metadata": {},
   "outputs": [],
   "source": [
    "variables_ols_fbpe = [u] + list(beta_symbs) + list(delta_d)"
   ]
  },
  {
   "cell_type": "code",
   "execution_count": null,
   "metadata": {},
   "outputs": [],
   "source": [
    "objf_ols_fbpe = u"
   ]
  },
  {
   "cell_type": "code",
   "execution_count": null,
   "metadata": {},
   "outputs": [],
   "source": [
    "sol_ols_fbpe = solve_sdp(objf_ols_fbpe, lmis_ols_fbpe, variables_ols_fbpe)"
   ]
  },
  {
   "cell_type": "code",
   "execution_count": null,
   "metadata": {},
   "outputs": [],
   "source": [
    "u_ols_fbpe= sol_ols_fbpe[0,0]\n",
    "\n",
    "beta_ols_fbpe = sol_ols_fbpe[1:1+n_beta]\n",
    "delta_d_ols_fbpe = sol_ols_fbpe[1+n_beta:]\n",
    "delta_ols_fbpe = Pb*beta_ols_fbpe + (-Pb*rbt.dyn.Kd+rbt.dyn.Pd)*delta_d_ols_fbpe"
   ]
  },
  {
   "cell_type": "code",
   "execution_count": null,
   "metadata": {},
   "outputs": [],
   "source": [
    "u_ols_fbpe"
   ]
  },
  {
   "cell_type": "markdown",
   "metadata": {},
   "source": [
    "### plot measured and predicted torque"
   ]
  },
  {
   "cell_type": "code",
   "execution_count": null,
   "metadata": {},
   "outputs": [],
   "source": [
    "from support_funcs.regr_data_proc import  plot_meas_pred_tau\n",
    "\n",
    "import matplotlib.pyplot as plt\n",
    "plt.rcParams['figure.figsize'] = [12,8]\n",
    "\n",
    "proc = numpy.load(tmpfolder + 'procdata/' + indentification_traj + '_proc.npz')\n",
    "t = proc['t']\n",
    "tau = proc['tau']\n",
    "\n",
    "tau_p = np.zeros(tau.shape)\n",
    "tau_ps = W.dot(beta_ols_fbpe)\n",
    "for i in range(dof):\n",
    "    tau_p[:, i] = tau_ps[i::dof].flatten()\n",
    "\n",
    "base_freq = 0.05    \n",
    "trajectory_sampling_rate = 1000\n",
    "plot_data_num = int(1 / base_freq * trajectory_sampling_rate)\n",
    "plot_meas_pred_tau(t[:plot_data_num], tau[:plot_data_num, :],\n",
    "                   tau_p[:plot_data_num, :])"
   ]
  },
  {
   "cell_type": "markdown",
   "metadata": {},
   "source": [
    "### Solution Double Check"
   ]
  },
  {
   "cell_type": "code",
   "execution_count": null,
   "metadata": {},
   "outputs": [],
   "source": [
    "dict_subs = dict(zip(beta_symbs, beta_ols_fbpe.flatten().tolist()[0]))\n",
    "dict_subs.update(dict(zip(delta_d, delta_d_ols_fbpe.flatten().tolist()[0])))\n",
    "\n",
    "test = 'ok'\n",
    "for i, DBi in enumerate(EB_blocks):\n",
    "        m = numpy.matrix(mrepl(DBi, dict_subs)).astype(float)\n",
    "        for v in numpy.linalg.eigvals( m ):\n",
    "            if v <= 0.0:\n",
    "                print i, v\n",
    "                test = 'fail'\n",
    "print(test)"
   ]
  },
  {
   "cell_type": "code",
   "execution_count": null,
   "metadata": {},
   "outputs": [],
   "source": [
    "numpy.savetxt(tmpfolder + 'solutions/V1-1000_' + indentification_traj + '_beta_ols_fbpe.dat', beta_ols_fbpe)\n",
    "numpy.savetxt(tmpfolder + 'solutions/V1-1000_' + indentification_traj + '_delta_ols_fbpe.dat', delta_ols_fbpe)"
   ]
  },
  {
   "cell_type": "markdown",
   "metadata": {},
   "source": [
    "## Method 4:Feasible Base Parameter Estimation with Weight Least Squares (FBPE-WLS)     "
   ]
  },
  {
   "cell_type": "code",
   "execution_count": null,
   "metadata": {},
   "outputs": [],
   "source": [
    "u = sympy.Symbol('u')\n",
    "U_rho = BlockMatrix([[Matrix([u - rho2_norm_sqr_wls]), (rho1_wls - R1_wls*beta_symbs).T],\n",
    "                     [rho1_wls - R1_wls*beta_symbs,                       I(n_beta)]])\n",
    "U_rho = U_rho.as_explicit()"
   ]
  },
  {
   "cell_type": "code",
   "execution_count": null,
   "metadata": {},
   "outputs": [],
   "source": [
    "lmis_fbpe_wls = [LMI(U_rho)] + EB_LMIs_marg"
   ]
  },
  {
   "cell_type": "code",
   "execution_count": null,
   "metadata": {},
   "outputs": [],
   "source": [
    "variables_fbpe_wls = [u] + list(beta_symbs) + list(delta_d)"
   ]
  },
  {
   "cell_type": "code",
   "execution_count": null,
   "metadata": {},
   "outputs": [],
   "source": [
    "objf_fbpe_wls = u"
   ]
  },
  {
   "cell_type": "code",
   "execution_count": null,
   "metadata": {},
   "outputs": [],
   "source": [
    "sol_fbpe_wls = solve_sdp(objf_fbpe_wls, lmis_fbpe_wls, variables_fbpe_wls)"
   ]
  },
  {
   "cell_type": "code",
   "execution_count": null,
   "metadata": {},
   "outputs": [],
   "source": [
    "u_wls_fbpe = sol_fbpe_wls[0,0]\n",
    "beta_wls_fbpe = numpy.matrix(sol_fbpe_wls[1:1+n_beta])\n",
    "delta_d_wls_fbpe = numpy.matrix(sol_fbpe_wls[1+n_beta:])\n",
    "delta_wls_fbpe = Pb*beta_wls_fbpe + (-Pb*rbt.dyn.Kd+rbt.dyn.Pd)*delta_d_wls_fbpe"
   ]
  },
  {
   "cell_type": "code",
   "execution_count": null,
   "metadata": {},
   "outputs": [],
   "source": [
    "u_wls_fbpe"
   ]
  },
  {
   "cell_type": "markdown",
   "metadata": {},
   "source": [
    "### plot measured and predicted torque"
   ]
  },
  {
   "cell_type": "code",
   "execution_count": null,
   "metadata": {},
   "outputs": [],
   "source": [
    "from support_funcs.regr_data_proc import  plot_meas_pred_tau\n",
    "\n",
    "import matplotlib.pyplot as plt\n",
    "plt.rcParams['figure.figsize'] = [12,8]\n",
    "\n",
    "proc = numpy.load(tmpfolder + 'procdata/' + indentification_traj + '_proc.npz')\n",
    "t = proc['t']\n",
    "tau = proc['tau']\n",
    "\n",
    "tau_p = np.zeros(tau.shape)\n",
    "tau_ps = W.dot(beta_wls_fbpe)\n",
    "for i in range(dof):\n",
    "    tau_p[:, i] = tau_ps[i::dof].flatten()\n",
    "\n",
    "base_freq = 0.05    \n",
    "trajectory_sampling_rate = 1000\n",
    "plot_data_num = int(1 / base_freq * trajectory_sampling_rate)\n",
    "plot_meas_pred_tau(t[:plot_data_num], tau[:plot_data_num, :],\n",
    "                   tau_p[:plot_data_num, :])"
   ]
  },
  {
   "cell_type": "markdown",
   "metadata": {},
   "source": [
    "### Solution Double Check"
   ]
  },
  {
   "cell_type": "code",
   "execution_count": null,
   "metadata": {},
   "outputs": [],
   "source": [
    "dict_subs = dict(zip(beta_symbs, beta_wls_fbpe.flatten().tolist()[0]))\n",
    "dict_subs.update(dict(zip(delta_d, delta_d_wls_fbpe.flatten().tolist()[0])))\n",
    "\n",
    "test = 'ok'\n",
    "for EBi in EB_blocks:\n",
    "        m = numpy.matrix(mrepl(EBi, dict_subs)).astype(float)\n",
    "        for v in numpy.linalg.eigvals( m ):\n",
    "            if v <= 0.0:\n",
    "                print(v)\n",
    "                test = 'fail'\n",
    "print(test)"
   ]
  },
  {
   "cell_type": "code",
   "execution_count": null,
   "metadata": {},
   "outputs": [],
   "source": [
    "numpy.savetxt(tmpfolder + 'solutions/V1-1000_' + indentification_traj + '_beta_wls_fbpe.dat', beta_wls_fbpe)\n",
    "numpy.savetxt(tmpfolder + 'solutions/V1-1000_' + indentification_traj + '_delta_wls_fbpe.dat', delta_wls_fbpe)"
   ]
  },
  {
   "cell_type": "markdown",
   "metadata": {},
   "source": [
    "## Method 5:Additional Constraints on Centers-of-Mass"
   ]
  },
  {
   "cell_type": "code",
   "execution_count": null,
   "metadata": {},
   "outputs": [],
   "source": [
    "# import sympy as sp\n",
    "# link_cuboid_hulls = [\n",
    "# [[ +0.000005 , +0.000006 ],[ -0.04 , -0.03 ],[ -0.07 , -0.06 ]],\n",
    "# [[ -0.000005 , -0.000004 ],[ 0.09 , 0.10 ],[ +0.03 , +0.04 ]],\n",
    "# [[ +0.0000009 , +0.000001 ],[ -0.03 , -0.02 ],[ -0.06 , -0.05 ]],\n",
    "# [[ -0.000004 , -0.000003 ],[ +0.07 , +0.08 ],[ +0.03 , +0.04 ]],\n",
    "# [[ +0.000009 , +0.000010 ],[ -0.03 , -0.02 ],[ -0.07 , -0.06 ]],\n",
    "# [[ -0.000011 , -0.00010 ],[ +0.09 , +0.10 ],[ +0.01 , +0.02 ]],\n",
    "# [[ +0.00003 , +0.00004 ],[ +0.02 , +0.03 ],[ -0.05 , -0.04 ]],\n",
    "# ]\n",
    "\n",
    "\n",
    "# link_cuboid_hulls = [\n",
    "# [[ -0.140 , +0.140 ],[ -0.174 , +0.174 ],[ -0.084 , +0.346 ]],\n",
    "# [[ -0.084 , +0.084 ],[ -0.174 , +0.174 ],[ -0.084 , +0.170 ]],\n",
    "# [[ -0.090 , +0.040 ],[ -0.550 , +0.040 ],[ -0.045 , +0.045 ]],\n",
    "# [[ -0.045 , +0.095 ],[ -0.045 , +0.045 ],[ -0.050 , +0.830 ]],\n",
    "# [[ -0.045 , +0.045 ],[ -0.020 , +0.100 ],[ -0.045 , +0.045 ]],\n",
    "# [[ -0.045 , +0.045 ],[ -0.060 , +0.045 ],[ -0.020 , +0.060 ]],\n",
    "# [[ -0.045 , +0.045 ],[ -0.045 , +0.045 ],[ -0.018 , +0.001 ]],\n",
    "# ]\n",
    "\n",
    "\n",
    "robotmaxmass = 22"
   ]
  },
  {
   "cell_type": "markdown",
   "metadata": {},
   "source": [
    "#### LMI Matrix Definition"
   ]
  },
  {
   "cell_type": "code",
   "execution_count": null,
   "metadata": {},
   "outputs": [],
   "source": [
    "D_add_blocks = []\n",
    "# for i in range(rbt.dof):\n",
    "#     l = rbt.rbtdef.l[i]\n",
    "#     m = rbt.rbtdef.m[i]\n",
    "#     link_cuboid_hull = link_cuboid_hulls[i]\n",
    "#     for j in range(3):\n",
    "#         D_add_blocks.append( Matrix( [[  l[j] - m*link_cuboid_hull[j][0] ]] ) )\n",
    "#         D_add_blocks.append( Matrix( [[ -l[j] + m*link_cuboid_hull[j][1] ]] ) )\n",
    "        \n",
    "D_add_blocks.append( Matrix( [[ rbt.rbtdef.m[0] - 5.4 ]] ) )\n",
    "D_add_blocks.append( Matrix( [[ -rbt.rbtdef.m[0] + 5.5 ]] ) )\n",
    "D_add_blocks.append( Matrix( [[ rbt.rbtdef.m[1] - 4.6 ]] ) )\n",
    "D_add_blocks.append( Matrix( [[ -rbt.rbtdef.m[1] + 4.7 ]] ) )\n",
    "D_add_blocks.append( Matrix( [[ rbt.rbtdef.m[2] - 2.6 ]] ) )\n",
    "D_add_blocks.append( Matrix( [[ -rbt.rbtdef.m[2] + 2.7 ]] ) )\n",
    "D_add_blocks.append( Matrix( [[ rbt.rbtdef.m[3] - 2.6 ]] ) )\n",
    "D_add_blocks.append( Matrix( [[ -rbt.rbtdef.m[3] + 2.7 ]] ) )\n",
    "D_add_blocks.append( Matrix( [[ rbt.rbtdef.m[4] - 2.5 ]] ) )\n",
    "D_add_blocks.append( Matrix( [[ -rbt.rbtdef.m[4] + 2.6 ]] ) )\n",
    "D_add_blocks.append( Matrix( [[ rbt.rbtdef.m[5] - 1.9 ]] ) )\n",
    "D_add_blocks.append( Matrix( [[ -rbt.rbtdef.m[5] + 2.0 ]] ) )\n",
    "D_add_blocks.append( Matrix( [[ rbt.rbtdef.m[6] - 0.8 ]] ) )\n",
    "D_add_blocks.append( Matrix( [[ -rbt.rbtdef.m[6] + 0.9 ]] ) )\n",
    "\n",
    "# D_add_blocks.append(Matrix([robotmaxmass - sum(rbt.rbtdef.m)]))"
   ]
  },
  {
   "cell_type": "markdown",
   "metadata": {},
   "source": [
    "#### Variable Change and LMI Definition"
   ]
  },
  {
   "cell_type": "code",
   "execution_count": null,
   "metadata": {},
   "outputs": [],
   "source": [
    "DB_add_blocks = [ mrepl(Di, varchange_dict) for Di in D_add_blocks ]"
   ]
  },
  {
   "cell_type": "code",
   "execution_count": null,
   "metadata": {},
   "outputs": [],
   "source": [
    "DB_add_LMIs = list(map(LMI_PD, DB_add_blocks))"
   ]
  },
  {
   "cell_type": "code",
   "execution_count": null,
   "metadata": {},
   "outputs": [],
   "source": [
    "DB_add_LMIs_marg = list(map(lambda lm: LMI(lm, epsilon_safemargin*eye(lm.shape[0])) , DB_add_blocks))"
   ]
  },
  {
   "cell_type": "code",
   "execution_count": null,
   "metadata": {},
   "outputs": [],
   "source": [
    "DB_add_LMIs_marg[0]"
   ]
  },
  {
   "cell_type": "code",
   "execution_count": null,
   "metadata": {},
   "outputs": [],
   "source": [
    "DB_add_LMIs_marg[-1]"
   ]
  },
  {
   "cell_type": "markdown",
   "metadata": {},
   "source": [
    "### Testing $\\beta^\\star$ solution on new constraints"
   ]
  },
  {
   "cell_type": "code",
   "execution_count": null,
   "metadata": {},
   "outputs": [],
   "source": [
    "dict_subs = dict(zip(beta_symbs, beta_wls_fbpe.flatten().tolist()[0]))\n",
    "lmis_star_bpft_add = [ lmi_sdp.LMI_PD(mrepl(lmi.canonical().gts, dict_subs)) for lmi in DB_add_LMIs_marg ]\n",
    "variables_star_bpft_add = list(delta_d)\n",
    "objf_star_bpft_add = delta_d[0]"
   ]
  },
  {
   "cell_type": "code",
   "execution_count": null,
   "metadata": {},
   "outputs": [],
   "source": [
    "sol_star_bpft_add = solve_sdp(objf_star_bpft_add, lmis_star_bpft_add, variables_star_bpft_add)"
   ]
  },
  {
   "cell_type": "markdown",
   "metadata": {},
   "source": [
    "### Finding new solution"
   ]
  },
  {
   "cell_type": "code",
   "execution_count": null,
   "metadata": {},
   "outputs": [],
   "source": [
    "lmis_fbpe_ols_add = [LMI(U_rho)] + EB_LMIs_marg + DB_add_LMIs_marg"
   ]
  },
  {
   "cell_type": "code",
   "execution_count": null,
   "metadata": {},
   "outputs": [],
   "source": [
    "variables_fbpe_ols_add = [u] + list(beta_symbs) + list(delta_d)"
   ]
  },
  {
   "cell_type": "code",
   "execution_count": null,
   "metadata": {},
   "outputs": [],
   "source": [
    "objf_fbpe_ols_add = u"
   ]
  },
  {
   "cell_type": "code",
   "execution_count": null,
   "metadata": {},
   "outputs": [],
   "source": [
    "sol_fbpe_ols_add = solve_sdp(objf_fbpe_ols_add, lmis_fbpe_ols_add, variables_fbpe_ols_add)"
   ]
  },
  {
   "cell_type": "code",
   "execution_count": null,
   "metadata": {},
   "outputs": [],
   "source": [
    "u_starextra = sol_fbpe_ols_add[0,0]\n",
    "beta_starextra = numpy.matrix(sol_fbpe_ols_add[1:1+n_beta])\n",
    "delta_d_starextra = numpy.matrix(sol_fbpe_ols_add[1+n_beta:])\n",
    "delta_starextra = Pb*beta_starextra + (-Pb*rbt.dyn.Kd+rbt.dyn.Pd)*delta_d_starextra"
   ]
  },
  {
   "cell_type": "code",
   "execution_count": null,
   "metadata": {},
   "outputs": [],
   "source": [
    "u_starextra"
   ]
  },
  {
   "cell_type": "code",
   "execution_count": null,
   "metadata": {},
   "outputs": [],
   "source": [
    "# from support_funcs.regr_data_proc import  plot_meas_pred_tau\n",
    "\n",
    "import matplotlib.pyplot as plt\n",
    "plt.rcParams['figure.figsize'] = [12,8]\n",
    "\n",
    "proc = numpy.load(tmpfolder + 'procdata/' + indentification_traj + '_proc.npz')\n",
    "t = proc['t']\n",
    "tau = proc['tau']\n",
    "\n",
    "tau_p = np.zeros(tau.shape)\n",
    "tau_ps = W.dot(beta_starextra)\n",
    "for i in range(dof):\n",
    "    tau_p[:, i] = tau_ps[i::dof].flatten()\n",
    "\n",
    "base_freq = 0.05    \n",
    "trajectory_sampling_rate = 1000\n",
    "plot_data_num = int(1 / base_freq * trajectory_sampling_rate)\n",
    "plot_meas_pred_tau(t[:plot_data_num], tau[:plot_data_num, :],\n",
    "                   tau_p[:plot_data_num, :])"
   ]
  },
  {
   "cell_type": "markdown",
   "metadata": {},
   "source": [
    "### Solution Double Check"
   ]
  },
  {
   "cell_type": "code",
   "execution_count": null,
   "metadata": {},
   "outputs": [],
   "source": [
    "dict_subs = dict(zip(beta_symbs, beta_starextra.flatten().tolist()[0]))\n",
    "dict_subs.update(dict(zip(delta_d, delta_d_starextra.flatten().tolist()[0])))\n",
    "\n",
    "test = 'ok'\n",
    "for DBi in (EB_blocks + DB_add_blocks):\n",
    "        m = numpy.matrix(mrepl(DBi, dict_subs)).astype(float)\n",
    "        for v in numpy.linalg.eigvals( m ):\n",
    "            if v <= 0.0: test = 'fail'\n",
    "print(test)"
   ]
  },
  {
   "cell_type": "code",
   "execution_count": null,
   "metadata": {},
   "outputs": [],
   "source": [
    "numpy.savetxt(tmpfolder + 'solutions/V1-1000_' + indentification_traj + '_beta_starextra.dat', beta_starextra)\n",
    "numpy.savetxt(tmpfolder + 'solutions/V1-1000_' + indentification_traj + '_delta_starextra.dat', delta_starextra)"
   ]
  },
  {
   "cell_type": "markdown",
   "metadata": {},
   "source": [
    "### Inertia Matrix Definiteness Tests"
   ]
  },
  {
   "cell_type": "code",
   "execution_count": null,
   "metadata": {},
   "outputs": [],
   "source": [
    "def test_mass_matrix_psd(beta_solution):\n",
    "    K = rbt.dyn.Pb.T + rbt.dyn.Kd * rbt.dyn.Pd.T\n",
    "    A = numpy.matrix(K).astype(float)\n",
    "    b = numpy.matrix(beta_solution).astype(float)\n",
    "    x = numpy.linalg.pinv(A) * b\n",
    "    d_test = x\n",
    "    \n",
    "    M_func_def = sympybotics.robotcodegen.robot_code_to_func( 'python', rbt.M_code, 'M', 'M_func', rbt.rbtdef)\n",
    "    exec(M_func_def, globals())\n",
    "    global sin, cos\n",
    "    from math import sin, cos\n",
    "    \n",
    "    ntests = 10000\n",
    "    \n",
    "    ok = 0\n",
    "    nok = 0\n",
    "    for i in range(ntests):\n",
    "        q_test = numpy.random.rand(rbt.dof)\n",
    "        M_out = M_func( numpy.array(d_test).flatten().tolist(), q_test)\n",
    "        M = numpy.matrix(M_out).reshape((rbt.dof,rbt.dof))\n",
    "        try:\n",
    "            c = numpy.linalg.cholesky(M)\n",
    "        except:\n",
    "            nok += 1\n",
    "            continue\n",
    "        ok += 1\n",
    "        \n",
    "    print 'ok     %8i  %3i%%'%(ok, 100.0*ok/ntests) \n",
    "    print 'not ok %8i  %3i%%'%(nok, 100.0*nok/ntests)\n",
    "    if nok > 0 :\n",
    "        print('\\nNot PSD -> Not feasible!')\n",
    "    else:\n",
    "        print('\\nSeems feasible.')"
   ]
  },
  {
   "cell_type": "code",
   "execution_count": null,
   "metadata": {},
   "outputs": [],
   "source": [
    "beta_ols = numpy.matrix(numpy.loadtxt(tmpfolder + 'solutions/V1-1000_traj1_beta_ols.dat')).T\n",
    "test_mass_matrix_psd(beta_ols)"
   ]
  },
  {
   "cell_type": "code",
   "execution_count": null,
   "metadata": {},
   "outputs": [],
   "source": [
    "beta_wls = numpy.matrix(numpy.loadtxt(tmpfolder + 'solutions/V1-1000_traj1_beta_wls.dat')).T\n",
    "test_mass_matrix_psd(beta_wls)"
   ]
  },
  {
   "cell_type": "code",
   "execution_count": null,
   "metadata": {},
   "outputs": [],
   "source": [
    "beta_ols_fbpe = numpy.matrix(numpy.loadtxt(tmpfolder + 'solutions/V1-1000_traj1_beta_ols_fbpe.dat')).T\n",
    "test_mass_matrix_psd(beta_ols_fbpe)"
   ]
  },
  {
   "cell_type": "code",
   "execution_count": null,
   "metadata": {},
   "outputs": [],
   "source": [
    "beta_wls_fbpe = numpy.matrix(numpy.loadtxt(tmpfolder + 'solutions/V1-1000_traj1_beta_wls_fbpe.dat')).T\n",
    "test_mass_matrix_psd(beta_wls_fbpe)"
   ]
  },
  {
   "cell_type": "code",
   "execution_count": null,
   "metadata": {},
   "outputs": [],
   "source": [
    "beta_starextra = numpy.matrix(numpy.loadtxt(tmpfolder + 'solutions/V1-1000_traj1_beta_starextra.dat')).T\n",
    "test_mass_matrix_psd(beta_starextra)"
   ]
  },
  {
   "cell_type": "code",
   "execution_count": null,
   "metadata": {},
   "outputs": [],
   "source": [
    "from support_funcs.utils import ListTable\n",
    "\n",
    "form = '%.4g'\n",
    "\n",
    "import sympy\n",
    "\n",
    "table = ListTable()\n",
    "header = ['', 'beta_cad', 'beta_ols', 'beta_wls', 'beta_ols_fbpe','beta_wls_fbpe','beta_starextra']\n",
    "table.append(header)\n",
    "for i, b in enumerate(rbt.dyn.baseparms.n()):\n",
    "    cad_v = '---'\n",
    "    row = ['%.7s ...'%b if len(str(b)) > 107 else str(b), cad_v]\n",
    "#     row += [form%solutions_beta['beta_ols'][i,0], '%.2g'%analysis['id']['betas']['beta_ols']['sd%'][i,0]]\n",
    "    row += [form%beta_ols[i,0]]\n",
    "    row += [form%beta_wls[i,0]]\n",
    "    row += [form%beta_ols_fbpe[i,0]]\n",
    "    row += [form%beta_wls_fbpe[i,0]]\n",
    "    row += [form%beta_starextra[i,0]]\n",
    "    table.append(row)\n",
    "table"
   ]
  },
  {
   "cell_type": "code",
   "execution_count": null,
   "metadata": {
    "scrolled": false
   },
   "outputs": [],
   "source": [
    "delta_ols_fpe = numpy.matrix(numpy.loadtxt(tmpfolder + 'solutions/V1-1000_traj1_delta_ols_fbpe.dat')).T\n",
    "delta_wls_fpe = numpy.matrix(numpy.loadtxt(tmpfolder + 'solutions/V1-1000_delta_wls_fbpe.dat')).T\n",
    "delta_starextra = numpy.matrix(numpy.loadtxt(tmpfolder + 'solutions/V1-1000_traj1_delta_starextra.dat')).T\n",
    "form = '%.6g'\n",
    "\n",
    "table = ListTable()\n",
    "header = ['', 'Dcad', 'delta_ols_fpe', 'delta_wls_fpe', 'delta_starextra']\n",
    "table.append(header)\n",
    "for i, d in enumerate(rbt.dyn.dynparms):\n",
    "    cad_v = '---'\n",
    "    row = ['%.7s ...'%b if len(str(d)) > 7 else str(d), cad_v]\n",
    "    row += [form%delta_ols_fpe[i,0]]\n",
    "    row += [form%delta_wls_fpe[i,0]]\n",
    "    row += [form%delta_starextra[i,0]]\n",
    "    table.append(row)\n",
    "table"
   ]
  },
  {
   "cell_type": "markdown",
   "metadata": {},
   "source": [
    "5 - Regression Model Validation\n",
    "===================================================="
   ]
  },
  {
   "cell_type": "code",
   "execution_count": null,
   "metadata": {},
   "outputs": [],
   "source": [
    "import numpy as np\n",
    "import sympybotics\n",
    "import pickle\n",
    "\n",
    "from collections import OrderedDict\n",
    "from support_funcs.utils import ListTable"
   ]
  },
  {
   "cell_type": "code",
   "execution_count": null,
   "metadata": {},
   "outputs": [],
   "source": [
    "with open(tmpfolder +  'robotmodels/xMate7p.pkl', 'rb' ) as file:\n",
    "          rbt = pickle.load( file )"
   ]
  },
  {
   "cell_type": "code",
   "execution_count": null,
   "metadata": {},
   "outputs": [],
   "source": [
    "def analyse(W, omega, R1, beta):\n",
    "    from numpy import matrix, mean\n",
    "    from numpy.linalg import cond, norm\n",
    "    \n",
    "    p = dict()\n",
    "    \n",
    "    n = W.shape[0]\n",
    "    \n",
    "    omega_norm = norm(omega)\n",
    "    omega_mean = mean(omega)\n",
    "    \n",
    "    p['err'] = norm(omega - W * beta)\n",
    "    p['merr'] = p['err'] / n\n",
    "    \n",
    "    p['se'] = p['err']**2\n",
    "    p['mse'] = p['se']/(n-W.shape[1])\n",
    "    p['rmse'] = p['mse']**0.5\n",
    "    \n",
    "    C = p['mse'] * (R1.T * R1).I\n",
    "    p['sd'] = np.sqrt(C.diagonal()).T\n",
    "    p['sd%'] = 100. * p['sd'] / np.abs(beta)\n",
    "    \n",
    "    p['relerr'] = p['err']/ omega_norm\n",
    "    p['relerr%'] = p['relerr']*100.\n",
    "    \n",
    "    p['1-r2'] = p['err']**2 / norm(omega - omega_mean)**2\n",
    "    p['r2'] = 1 - p['1-r2']\n",
    "\n",
    "    return p\n",
    "    "
   ]
  },
  {
   "cell_type": "code",
   "execution_count": null,
   "metadata": {},
   "outputs": [],
   "source": [
    "# trajs = OrderedDict([('id', 'traj1'),\n",
    "#                      ('vA', 'traj2'),\n",
    "#                      ('vB', 'traj3'),\n",
    "#                      ('vC', 'traj4')])\n",
    "\n",
    "trajs = OrderedDict([('id', 'traj1'),\n",
    "                     ('vA', 'traj2'),\n",
    "                     ('vB', 'traj3'),\n",
    "                     ('vC', 'traj4')])\n",
    "\n",
    "betas = OrderedDict([('beta_ols', 'B^'),\n",
    "                     ('beta_wls', 'B~'),\n",
    "                     ('beta_ols_fbpe', 'B\\''),\n",
    "                     ('beta_wls_fbpe', 'B*'),\n",
    "                     ('beta_starextra', 'B*e')])"
   ]
  },
  {
   "cell_type": "code",
   "execution_count": null,
   "metadata": {},
   "outputs": [],
   "source": [
    "solutions_beta = {betaname:np.matrix(np.loadtxt(tmpfolder + 'solutions/V1-1000_%s_%s.dat'%(trajs['id'], betaname))).T for betaname in betas}"
   ]
  },
  {
   "cell_type": "code",
   "execution_count": null,
   "metadata": {},
   "outputs": [],
   "source": [
    "analysis = dict()\n",
    "\n",
    "for traj in trajs:\n",
    "    from numpy.linalg import cond\n",
    "    \n",
    "    analysis[traj] = dict()\n",
    "    \n",
    "    regr_mats = np.load(tmpfolder + 'procdata/' + trajs[traj] + '_regr.npz')\n",
    "    W = np.matrix(regr_mats['W'])\n",
    "    omega = np.matrix(regr_mats['omega'])\n",
    "    R1 = np.matrix(regr_mats['R1'])\n",
    "    \n",
    "    analysis[traj]['cond'] = cond(W)\n",
    "    \n",
    "    analysis[traj]['betas'] = dict()\n",
    "    \n",
    "    for betaname in betas:\n",
    "        beta = solutions_beta[betaname]\n",
    "        analysis[traj]['betas'][betaname] = analyse(W, omega, R1, beta)\n",
    "    \n",
    "    del W, omega, R1"
   ]
  },
  {
   "cell_type": "code",
   "execution_count": null,
   "metadata": {},
   "outputs": [],
   "source": [
    "prop = lambda x: x['relerr%']\n",
    "form = '%.2f'\n",
    "\n",
    "table = ListTable()\n",
    "table.append([''] + ['cond'] + betas.values())\n",
    "for (traj, trajname) in zip(trajs, ['identification', 'validation A', 'validation B']):\n",
    "    row = [traj] + ['%.0f'%analysis[traj]['cond']] + [ form%prop(analysis[traj]['betas'][b]) for b in betas]\n",
    "    table.append(row)\n",
    "table"
   ]
  },
  {
   "cell_type": "markdown",
   "metadata": {},
   "source": [
    "## Torque Plot"
   ]
  },
  {
   "cell_type": "code",
   "execution_count": null,
   "metadata": {},
   "outputs": [],
   "source": [
    "traj = 'vC'\n",
    "betaname = 'beta_ols'"
   ]
  },
  {
   "cell_type": "code",
   "execution_count": null,
   "metadata": {},
   "outputs": [],
   "source": [
    "regr_mats = np.load(tmpfolder + 'procdata/' + trajs[traj] + '_regr.npz')\n",
    "W = np.matrix(regr_mats['W'])\n",
    "omega = np.matrix(regr_mats['omega'])\n",
    "\n",
    "regr_mats = np.load(tmpfolder + 'procdata/' + trajs[traj] + '_proc.npz')\n",
    "t = regr_mats['t']\n",
    "tau_proc = np.matrix(regr_mats['tau'])\n",
    "\n",
    "regr_mats = np.load(tmpfolder + 'procdata/' + trajs[traj] + '_raw.npz')\n",
    "tau_raw = np.matrix(regr_mats['tau'])"
   ]
  },
  {
   "cell_type": "code",
   "execution_count": null,
   "metadata": {},
   "outputs": [],
   "source": [
    "beta_solution = np.matrix(np.loadtxt(tmpfolder + 'solutions/V1-1000_%s_%s.dat'%(trajs['id'], betaname))).T"
   ]
  },
  {
   "cell_type": "code",
   "execution_count": null,
   "metadata": {},
   "outputs": [],
   "source": [
    "tau = tau_raw"
   ]
  },
  {
   "cell_type": "code",
   "execution_count": null,
   "metadata": {},
   "outputs": [],
   "source": [
    "omega_pred = W * beta_solution\n",
    "tau_pred = omega_pred.reshape( omega_pred.shape[0]/tau.shape[1], tau.shape[1] )\n",
    "err_pred = tau - tau_pred      # 未滤波\n",
    "\n",
    "err_pred_proc = tau_proc - tau_pred\n",
    "\n",
    "RMS = []\n",
    "for i in range(rbt.dof):\n",
    "#     RMS.append(sqrt(err_pred_proc[:,i].T * err_pred_proc[:,i]/err_pred_proc.shape[0]))\n",
    "#     RMS.append(sqrt(err_pred_proc[:,i].T * err_pred_proc[:,i]/err_pred_proc.shape[0]).tolist()[0][0])\n",
    "    \n",
    "    print(\"joint {} RMS: {}\".format(i, sqrt(err_pred_proc[:,i].T * err_pred_proc[:,i]/err_pred_proc.shape[0]).tolist()[0][0]))\n",
    "# print(RMS)"
   ]
  },
  {
   "cell_type": "code",
   "execution_count": null,
   "metadata": {},
   "outputs": [],
   "source": [
    "joint = 7\n",
    "firsts = 60000\n",
    "s=tau_raw.shape[0]"
   ]
  },
  {
   "cell_type": "code",
   "execution_count": null,
   "metadata": {},
   "outputs": [],
   "source": [
    "from matplotlib import pyplot as plt\n",
    "plt.close()\n",
    "\n",
    "plt.figure(figsize=(12,70))  \n",
    "axes = []\n",
    "for i in range(tau.shape[1]):\n",
    "    ax = plt.subplot(7, 1, i+1)\n",
    "#     ax.plot(t[:firsts],tau_raw[:,i][:firsts], label=\"Measured torque\")\n",
    "    ax.plot(t[:firsts],tau_proc[:,i][:firsts], label=\"Measured torque\")\n",
    "    ax.plot(t[:firsts],tau_pred[:,i][:firsts], label=\"Estimated torque\")\n",
    "    ax.plot(t[:firsts],err_pred_proc[:,i][:firsts], label=\"Error\")\n",
    "    ax.legend(loc='upper right',fontsize=10)\n",
    "    ax.set_title( \"Joint %d\"%(i+1) )\n",
    "    plt.xlabel(\"Time (s)\")\n",
    "    plt.ylabel(\"Torque (Nm)\")\n",
    "    axes.append(ax)\n",
    "\n",
    "plt.tight_layout()\n",
    "\n",
    "plt.show()"
   ]
  },
  {
   "cell_type": "code",
   "execution_count": null,
   "metadata": {},
   "outputs": [],
   "source": [
    "delta_starextra = Pb*beta_starextra + (-Pb*rbt.dyn.Kd+rbt.dyn.Pd)*delta_d_starextra"
   ]
  },
  {
   "cell_type": "markdown",
   "metadata": {},
   "source": [
    "$$\\beta^\\star = K\\ \\delta^\\star$$\n",
    "$$\\delta^\\star_{min} = pinv(K)\\ \\beta^\\star$$\n",
    "$$K\\ \\delta^\\star_{min} == K\\ \\delta^\\star$$"
   ]
  },
  {
   "cell_type": "code",
   "execution_count": null,
   "metadata": {},
   "outputs": [],
   "source": [
    "beta_data = numpy.matrix(numpy.loadtxt(tmpfolder + 'solutions/V1-1000_traj1_beta_starextra.dat')).T\n",
    "delta_data = numpy.matrix(numpy.loadtxt(tmpfolder + 'solutions/V1-1000_traj1_delta_starextra.dat')).T\n",
    "\n",
    "K = np.matrix(Pb.T+rbt.dyn.Kd*rbt.dyn.Pd.T).astype(float)\n",
    "delta_data_min = np.linalg.pinv(K)*beta_data\n",
    "numpy.savetxt(tmpfolder + 'solutions/V1-1000_' + indentification_traj + '_delta_data_min.dat', delta_data_min)\n",
    "\n",
    "# delta_data_min = numpy.matrix(numpy.loadtxt(tmpfolder + 'solutions/V1_traj1_delta_starextra.dat')).T"
   ]
  },
  {
   "cell_type": "code",
   "execution_count": null,
   "metadata": {},
   "outputs": [],
   "source": [
    "np.testing.assert_array_almost_equal(K * delta_starextra ,beta_starextra, 10)"
   ]
  },
  {
   "cell_type": "markdown",
   "metadata": {},
   "source": [
    "## Change Parameters set order to Matlab version"
   ]
  },
  {
   "cell_type": "code",
   "execution_count": null,
   "metadata": {},
   "outputs": [],
   "source": [
    "parms = [0]*rbt.dyn.n_dynparms\n",
    "for i in range(rbt.dof):\n",
    "    parms[i*13] = delta_data.tolist()[i*13+9]\n",
    "    parms[i*13+1] = delta_data.tolist()[i*13+6]\n",
    "    parms[i*13+2] = delta_data.tolist()[i*13+7]\n",
    "    parms[i*13+3] = delta_data.tolist()[i*13+8]\n",
    "    parms[i*13+4] = delta_data.tolist()[i*13]\n",
    "    parms[i*13+5] = delta_data.tolist()[i*13+3]\n",
    "    parms[i*13+6] = delta_data.tolist()[i*13+5]\n",
    "    parms[i*13+7] = delta_data.tolist()[i*13+1]\n",
    "    parms[i*13+8] = delta_data.tolist()[i*13+2]\n",
    "    parms[i*13+9] = delta_data.tolist()[i*13+4]\n",
    "    parms[i*13+10] = delta_data.tolist()[i*13+10]\n",
    "    parms[i*13+11] = delta_data.tolist()[i*13+11]\n",
    "    parms[i*13+12] = delta_data.tolist()[i*13+12]\n",
    "\n",
    "\n",
    "# for i in range(rbt.dof):\n",
    "#     parms[i*13] = delta_data_min.tolist()[i*13+9]\n",
    "#     parms[i*13+1] = delta_data_min.tolist()[i*13+6]\n",
    "#     parms[i*13+2] = delta_data_min.tolist()[i*13+7]\n",
    "#     parms[i*13+3] = delta_data_min.tolist()[i*13+8]\n",
    "#     parms[i*13+4] = delta_data_min.tolist()[i*13]\n",
    "#     parms[i*13+5] = delta_data_min.tolist()[i*13+3]\n",
    "#     parms[i*13+6] = delta_data_min.tolist()[i*13+5]\n",
    "#     parms[i*13+7] = delta_data_min.tolist()[i*13+1]\n",
    "#     parms[i*13+8] = delta_data_min.tolist()[i*13+2]\n",
    "#     parms[i*13+9] = delta_data_min.tolist()[i*13+4]\n",
    "#     parms[i*13+10] = delta_data_min.tolist()[i*13+10]\n",
    "#     parms[i*13+11] = delta_data_min.tolist()[i*13+11]\n",
    "#     parms[i*13+12] = delta_data_min.tolist()[i*13+12]\n",
    "\n",
    "# list_txt(path=trajectory_folder+'opt_x.txt', list=opt_x)\n",
    "f1 = open(tmpfolder + 'solutions/params.txt','w')\n",
    "for j in parms:\n",
    "    f1.write(str(j[0])+'\\n')\n",
    "f1.close()\n"
   ]
  },
  {
   "cell_type": "markdown",
   "metadata": {},
   "source": [
    "---------------------------\n",
    "\n",
    "---------------------------\n",
    "\n",
    "---------------------------\n",
    "\n",
    "---------------------------\n",
    "\n",
    "---------------------------\n",
    "\n",
    "---------------------------\n",
    "\n",
    "---------------------------\n",
    "\n",
    "---------------------------\n",
    "\n",
    "---------------------------\n",
    "\n",
    "### (generate readme and notebook preview)"
   ]
  },
  {
   "cell_type": "code",
   "execution_count": null,
   "metadata": {},
   "outputs": [],
   "source": [
    "def save_files(): \n",
    "    from IPython.display import display, Javascript\n",
    "    Javascript('IPython.notebook.save_notebook()')\n",
    "    \n",
    "    import json\n",
    "    with open('xMate7p Dynamic Parameter Identification.ipynb', 'r') as f:\n",
    "        d = json.load(f)\n",
    "    with open('README.md', 'w') as f:\n",
    "        f.write(''.join(d['worksheets'][0]['cells'][0]['source']).encode('UTF-8'))\n",
    "    \n",
    "    !ipython nbconvert \"xMate7p Dynamic Parameter Identification.ipynb\" --to html"
   ]
  },
  {
   "cell_type": "code",
   "execution_count": null,
   "metadata": {},
   "outputs": [],
   "source": [
    "#save_files()"
   ]
  },
  {
   "cell_type": "code",
   "execution_count": null,
   "metadata": {},
   "outputs": [],
   "source": [
    "#!git status"
   ]
  },
  {
   "cell_type": "code",
   "execution_count": null,
   "metadata": {},
   "outputs": [],
   "source": [
    "#!git commit -a -m \"Add automathic README.md file generator\""
   ]
  },
  {
   "cell_type": "code",
   "execution_count": null,
   "metadata": {},
   "outputs": [],
   "source": [
    "#!git push"
   ]
  }
 ],
 "metadata": {
  "kernelspec": {
   "display_name": "conda_sousa",
   "language": "python",
   "name": "sousa"
  },
  "language_info": {
   "codemirror_mode": {
    "name": "ipython",
    "version": 2
   },
   "file_extension": ".py",
   "mimetype": "text/x-python",
   "name": "python",
   "nbconvert_exporter": "python",
   "pygments_lexer": "ipython2",
   "version": "2.7.15"
  }
 },
 "nbformat": 4,
 "nbformat_minor": 1
}
